{
 "cells": [
  {
   "cell_type": "code",
   "execution_count": 1,
   "id": "7cff0829",
   "metadata": {},
   "outputs": [
    {
     "name": "stdout",
     "output_type": "stream",
     "text": [
      "WARNING:tensorflow:From C:\\Users\\kiran jyothi\\anaconda3\\lib\\site-packages\\keras\\src\\losses.py:2976: The name tf.losses.sparse_softmax_cross_entropy is deprecated. Please use tf.compat.v1.losses.sparse_softmax_cross_entropy instead.\n",
      "\n"
     ]
    }
   ],
   "source": [
    "# Import Libraries\n",
    "import numpy as np\n",
    "import tensorflow as tf\n",
    "from tensorflow.keras import layers, models\n",
    "from tensorflow.keras.datasets import fashion_mnist\n",
    "from sklearn.ensemble import RandomForestClassifier\n",
    "from sklearn.svm import SVC\n",
    "from sklearn.metrics import accuracy_score, precision_score, recall_score, f1_score\n",
    "\n",
    "# Load Fashion MNIST Dataset\n",
    "(tr_im, tr_labels), (tst_im, tst_labels) = fashion_mnist.load_data()\n",
    "tr_im, tst_im = tr_im / 255.0, tst_im / 255.0\n"
   ]
  },
  {
   "cell_type": "code",
   "execution_count": 2,
   "id": "b70ad50a",
   "metadata": {},
   "outputs": [
    {
     "name": "stdout",
     "output_type": "stream",
     "text": [
      "WARNING:tensorflow:From C:\\Users\\kiran jyothi\\anaconda3\\lib\\site-packages\\keras\\src\\backend.py:873: The name tf.get_default_graph is deprecated. Please use tf.compat.v1.get_default_graph instead.\n",
      "\n",
      "WARNING:tensorflow:From C:\\Users\\kiran jyothi\\anaconda3\\lib\\site-packages\\keras\\src\\optimizers\\__init__.py:309: The name tf.train.Optimizer is deprecated. Please use tf.compat.v1.train.Optimizer instead.\n",
      "\n",
      "WARNING:tensorflow:From C:\\Users\\kiran jyothi\\anaconda3\\lib\\site-packages\\keras\\src\\layers\\pooling\\max_pooling2d.py:161: The name tf.nn.max_pool is deprecated. Please use tf.nn.max_pool2d instead.\n",
      "\n"
     ]
    }
   ],
   "source": [
    "# Define New Deep Learning Models\n",
    "\n",
    "# Model 1: Fully Connected Neural Network\n",
    "FCNN_MODEL1 = models.Sequential([\n",
    "    layers.Flatten(input_shape=(28, 28)),\n",
    "    layers.Dense(256, activation='relu'),\n",
    "    layers.Dropout(0.5),\n",
    "    layers.Dense(128, activation='relu'),\n",
    "    layers.Dense(10, activation='softmax')\n",
    "])\n",
    "FCNN_MODEL1.compile(optimizer='adam',\n",
    "               loss='sparse_categorical_crossentropy',\n",
    "               metrics=['accuracy'])\n",
    "\n",
    "               \n",
    "\n",
    "# Model 2: Recurrent Neural Network (LSTM)\n",
    "RNN_MODEL2= models.Sequential([\n",
    "    layers.LSTM(128, input_shape=(28, 28), return_sequences=True),\n",
    "    layers.LSTM(64),\n",
    "    layers.Dense(10, activation='softmax')\n",
    "])\n",
    "RNN_MODEL2.compile(optimizer='adam',\n",
    "               loss='sparse_categorical_crossentropy',\n",
    "               metrics=['accuracy'])\n",
    "\n",
    "\n",
    "# Model 3: Convolutional Autoencoder\n",
    "CA_MODEL3 = models.Sequential([\n",
    "    layers.Input(shape=(28, 28, 1)),\n",
    "    layers.Conv2D(32, (3, 3), activation='relu', padding='same'),\n",
    "    layers.MaxPooling2D((2, 2), padding='same'),\n",
    "    layers.Conv2D(64, (3, 3), activation='relu', padding='same'),\n",
    "    layers.Flatten(),\n",
    "    layers.Dense(128, activation='relu'),\n",
    "    layers.Dense(10, activation='softmax')\n",
    "])\n",
    "\n",
    "CA_MODEL3.compile(optimizer='adam',\n",
    "               loss='sparse_categorical_crossentropy',\n",
    "               metrics=['accuracy'])\n"
   ]
  },
  {
   "cell_type": "code",
   "execution_count": 3,
   "id": "97a10ecb",
   "metadata": {},
   "outputs": [
    {
     "name": "stdout",
     "output_type": "stream",
     "text": [
      "Epoch 1/10\n",
      "WARNING:tensorflow:From C:\\Users\\kiran jyothi\\anaconda3\\lib\\site-packages\\keras\\src\\utils\\tf_utils.py:492: The name tf.ragged.RaggedTensorValue is deprecated. Please use tf.compat.v1.ragged.RaggedTensorValue instead.\n",
      "\n",
      "WARNING:tensorflow:From C:\\Users\\kiran jyothi\\anaconda3\\lib\\site-packages\\keras\\src\\engine\\base_layer_utils.py:384: The name tf.executing_eagerly_outside_functions is deprecated. Please use tf.compat.v1.executing_eagerly_outside_functions instead.\n",
      "\n",
      "1875/1875 [==============================] - 19s 8ms/step - loss: 0.5912 - accuracy: 0.7846 - val_loss: 0.4491 - val_accuracy: 0.8365\n",
      "Epoch 2/10\n",
      "1875/1875 [==============================] - 15s 8ms/step - loss: 0.4606 - accuracy: 0.8311 - val_loss: 0.4172 - val_accuracy: 0.8489\n",
      "Epoch 3/10\n",
      "1875/1875 [==============================] - 15s 8ms/step - loss: 0.4289 - accuracy: 0.8421 - val_loss: 0.4071 - val_accuracy: 0.8498\n",
      "Epoch 4/10\n",
      "1875/1875 [==============================] - 20s 11ms/step - loss: 0.4054 - accuracy: 0.8512 - val_loss: 0.3774 - val_accuracy: 0.8646\n",
      "Epoch 5/10\n",
      "1875/1875 [==============================] - 14s 7ms/step - loss: 0.3916 - accuracy: 0.8543 - val_loss: 0.3788 - val_accuracy: 0.8662\n",
      "Epoch 6/10\n",
      "1875/1875 [==============================] - 17s 9ms/step - loss: 0.3788 - accuracy: 0.8601 - val_loss: 0.3633 - val_accuracy: 0.8663\n",
      "Epoch 7/10\n",
      "1875/1875 [==============================] - 15s 8ms/step - loss: 0.3681 - accuracy: 0.8638 - val_loss: 0.3604 - val_accuracy: 0.8686\n",
      "Epoch 8/10\n",
      "1875/1875 [==============================] - 11s 6ms/step - loss: 0.3595 - accuracy: 0.8657 - val_loss: 0.3568 - val_accuracy: 0.8707\n",
      "Epoch 9/10\n",
      "1875/1875 [==============================] - 11s 6ms/step - loss: 0.3523 - accuracy: 0.8691 - val_loss: 0.3594 - val_accuracy: 0.8704\n",
      "Epoch 10/10\n",
      "1875/1875 [==============================] - 11s 6ms/step - loss: 0.3429 - accuracy: 0.8738 - val_loss: 0.3494 - val_accuracy: 0.8750\n"
     ]
    },
    {
     "data": {
      "text/plain": [
       "<keras.src.callbacks.History at 0x2880f5113f0>"
      ]
     },
     "execution_count": 3,
     "metadata": {},
     "output_type": "execute_result"
    }
   ],
   "source": [
    "\n",
    "# Train Individual Models\n",
    "tr_im_3d = np.expand_dims(tr_im, axis=-1)\n",
    "tst_im_3d = np.expand_dims(tst_im, axis=-1)\n",
    "\n",
    "FCNN_MODEL1.fit(tr_im_3d, tr_labels, epochs=10, validation_data=(tst_im_3d, tst_labels))\n"
   ]
  },
  {
   "cell_type": "code",
   "execution_count": 4,
   "id": "a6f3d2d8",
   "metadata": {},
   "outputs": [
    {
     "name": "stdout",
     "output_type": "stream",
     "text": [
      "Epoch 1/10\n",
      "1875/1875 [==============================] - 94s 47ms/step - loss: 0.5842 - accuracy: 0.7850 - val_loss: 0.4618 - val_accuracy: 0.8331\n",
      "Epoch 2/10\n",
      "1875/1875 [==============================] - 74s 39ms/step - loss: 0.4058 - accuracy: 0.8506 - val_loss: 0.3942 - val_accuracy: 0.8560\n",
      "Epoch 3/10\n",
      "1875/1875 [==============================] - 84s 45ms/step - loss: 0.3527 - accuracy: 0.8697 - val_loss: 0.3703 - val_accuracy: 0.8619\n",
      "Epoch 4/10\n",
      "1875/1875 [==============================] - 80s 43ms/step - loss: 0.3223 - accuracy: 0.8802 - val_loss: 0.3404 - val_accuracy: 0.8736\n",
      "Epoch 5/10\n",
      "1875/1875 [==============================] - 72s 39ms/step - loss: 0.2982 - accuracy: 0.8894 - val_loss: 0.3222 - val_accuracy: 0.8808\n",
      "Epoch 6/10\n",
      "1875/1875 [==============================] - 77s 41ms/step - loss: 0.2812 - accuracy: 0.8942 - val_loss: 0.3108 - val_accuracy: 0.8872\n",
      "Epoch 7/10\n",
      "1875/1875 [==============================] - 76s 41ms/step - loss: 0.2638 - accuracy: 0.9013 - val_loss: 0.2983 - val_accuracy: 0.8917\n",
      "Epoch 8/10\n",
      "1875/1875 [==============================] - 76s 41ms/step - loss: 0.2493 - accuracy: 0.9070 - val_loss: 0.2951 - val_accuracy: 0.8936\n",
      "Epoch 9/10\n",
      "1875/1875 [==============================] - 79s 42ms/step - loss: 0.2362 - accuracy: 0.9118 - val_loss: 0.3057 - val_accuracy: 0.8899\n",
      "Epoch 10/10\n",
      "1875/1875 [==============================] - 72s 39ms/step - loss: 0.2260 - accuracy: 0.9155 - val_loss: 0.2907 - val_accuracy: 0.8975\n"
     ]
    },
    {
     "data": {
      "text/plain": [
       "<keras.src.callbacks.History at 0x288111ea3b0>"
      ]
     },
     "execution_count": 4,
     "metadata": {},
     "output_type": "execute_result"
    }
   ],
   "source": [
    "RNN_MODEL2.fit(tr_im_3d, tr_labels, epochs=10, validation_data=(tst_im_3d, tst_labels))\n"
   ]
  },
  {
   "cell_type": "code",
   "execution_count": 5,
   "id": "8e964543",
   "metadata": {},
   "outputs": [
    {
     "name": "stdout",
     "output_type": "stream",
     "text": [
      "Epoch 1/5\n",
      "1875/1875 [==============================] - 90s 47ms/step - loss: 0.3742 - accuracy: 0.8639 - val_loss: 0.3029 - val_accuracy: 0.8918\n",
      "Epoch 2/5\n",
      "1875/1875 [==============================] - 89s 48ms/step - loss: 0.2386 - accuracy: 0.9119 - val_loss: 0.2454 - val_accuracy: 0.9126\n",
      "Epoch 3/5\n",
      "1875/1875 [==============================] - 83s 44ms/step - loss: 0.1873 - accuracy: 0.9309 - val_loss: 0.2395 - val_accuracy: 0.9163\n",
      "Epoch 4/5\n",
      "1875/1875 [==============================] - 92s 49ms/step - loss: 0.1483 - accuracy: 0.9437 - val_loss: 0.2530 - val_accuracy: 0.9126\n",
      "Epoch 5/5\n",
      "1875/1875 [==============================] - 93s 50ms/step - loss: 0.1143 - accuracy: 0.9578 - val_loss: 0.2559 - val_accuracy: 0.9165\n"
     ]
    },
    {
     "data": {
      "text/plain": [
       "<keras.src.callbacks.History at 0x288302fc2e0>"
      ]
     },
     "execution_count": 5,
     "metadata": {},
     "output_type": "execute_result"
    }
   ],
   "source": [
    "CA_MODEL3.fit(tr_im_3d, tr_labels, epochs=5, validation_data=(tst_im_3d, tst_labels))"
   ]
  },
  {
   "cell_type": "code",
   "execution_count": 6,
   "id": "e5c53657",
   "metadata": {},
   "outputs": [],
   "source": [
    "\n",
    "# Evaluate Individual Models\n",
    "def evaluate_model(model, test_data, true_labels):\n",
    "    '''if isinstance(model, tf.keras.models.Sequential):\n",
    "        predictions = np.argmax(model.predict(test_data), axis=1)\n",
    "    else:'''\n",
    "    probs = model.predict(test_data)\n",
    "    predictions = np.argmax(model.predict(test_data), axis=1)\n",
    "        \n",
    "    accuracy = accuracy_score(true_labels, predictions)\n",
    "    precision = precision_score(true_labels, predictions, average='weighted')\n",
    "    recall = recall_score(true_labels, predictions, average='weighted')\n",
    "    f1 = f1_score(true_labels, predictions, average='weighted')\n",
    "    return accuracy, precision, recall, f1, probs, predictions\n",
    "\n",
    "\n"
   ]
  },
  {
   "cell_type": "code",
   "execution_count": 8,
   "id": "cdb49c11",
   "metadata": {},
   "outputs": [
    {
     "name": "stdout",
     "output_type": "stream",
     "text": [
      "313/313 [==============================] - 1s 2ms/step\n",
      "313/313 [==============================] - 1s 2ms/step\n",
      "313/313 [==============================] - 7s 18ms/step\n",
      "313/313 [==============================] - 5s 16ms/step\n",
      "313/313 [==============================] - 2s 6ms/step\n",
      "313/313 [==============================] - 2s 7ms/step\n",
      "Accuracy of Model 1: 0.875, Precision: 0.8762679240979185, Recall: 0.875, F1: 0.8721308455724571\n",
      "Accuracy of Model 2: 0.8975, Precision: 0.8995205472114947, Recall: 0.8975, F1: 0.8979447181714271\n",
      "Accuracy of Model 3: 0.9165, Precision: 0.9199172578217025, Recall: 0.9165, F1: 0.9171279062301175\n"
     ]
    }
   ],
   "source": [
    "\n",
    "\n",
    "accuracy_FCNN, precision_FCNN, recall_FCNN, f1_FCNN, probs_FCNN, predictions_FCNN = evaluate_model(FCNN_MODEL1, tst_im_3d, tst_labels)\n",
    "accuracy_RNN, precision_RNN, recall_RNN, f1_RNN, probs_RNN, predictions_RNN = evaluate_model(RNN_MODEL2, tst_im_3d, tst_labels)\n",
    "accuracy_CA, precision_CA, recall_CA, f1_CA, probs_CA, predictions_CA = evaluate_model(CA_MODEL3, tst_im_3d, tst_labels)\n",
    "\n",
    "print(f\"Accuracy of Model 1: {accuracy_FCNN}, Precision: {precision_FCNN}, Recall: {recall_FCNN}, F1: {f1_FCNN}\")\n",
    "print(f\"Accuracy of Model 2: {accuracy_RNN}, Precision: {precision_RNN}, Recall: {recall_RNN}, F1: {f1_RNN}\")\n",
    "print(f\"Accuracy of Model 3: {accuracy_CA}, Precision: {precision_CA}, Recall: {recall_CA}, F1: {f1_CA}\")\n"
   ]
  },
  {
   "cell_type": "code",
   "execution_count": 9,
   "id": "df86d020",
   "metadata": {},
   "outputs": [
    {
     "name": "stdout",
     "output_type": "stream",
     "text": [
      "Accuracy of Weighted Average Model: 0.9193\n",
      "Weighted Average Model: Precision: 0.9198783611694653, Recall: 0.9193, F1: 0.9192962466116184\n"
     ]
    }
   ],
   "source": [
    "COMM_probs = (probs_FCNN + probs_RNN + probs_CA) / 3\n",
    "\n",
    "fn_avg_preds = np.argmax(COMM_probs, axis=1)\n",
    "\n",
    "# Evaluate the weighted average model\n",
    "COMM_accuracy = accuracy_score(tst_labels, fn_avg_preds)\n",
    "print(f\"Accuracy of Weighted Average Model: {COMM_accuracy}\")\n",
    "\n",
    "\n",
    "# Evaluate Precision, Recall, and F1 Score for the Weighted Average Model\n",
    "COMM_precision = precision_score(tst_labels, fn_avg_preds, average='weighted')\n",
    "COMM_recall= recall_score(tst_labels, fn_avg_preds, average='weighted')\n",
    "COMM_f1 = f1_score(tst_labels, fn_avg_preds, average='weighted')\n",
    "\n",
    "print(f\"Weighted Average Model: Precision: {COMM_precision}, Recall: {COMM_recall}, F1: {COMM_f1}\")\n"
   ]
  },
  {
   "cell_type": "code",
   "execution_count": 10,
   "id": "079037ff",
   "metadata": {},
   "outputs": [
    {
     "name": "stdout",
     "output_type": "stream",
     "text": [
      "313/313 [==============================] - 1s 3ms/step\n",
      "313/313 [==============================] - 6s 18ms/step\n",
      "313/313 [==============================] - 2s 7ms/step\n",
      "Ensemble Model: Accuracy: 0.9193, Precision: 0.9198783611694653, Recall: 0.9193, F1: 0.9192962466116184\n"
     ]
    }
   ],
   "source": [
    "import numpy as np\n",
    "from sklearn.metrics import accuracy_score, precision_score, recall_score, f1_score\n",
    "\n",
    "# Assuming you already have probabilities from each model\n",
    "probs_FCNN = FCNN_MODEL1.predict(tst_im_3d)\n",
    "probs_RNN = RNN_MODEL2.predict(tst_im_3d)\n",
    "probs_CA = CA_MODEL3.predict(tst_im_3d)\n",
    "\n",
    "# Define weights for each model\n",
    "weight_FCNN = 1.0\n",
    "weight_RNN = 1.0\n",
    "weight_CA = 1.0\n",
    "\n",
    "# Normalize weights to ensure they sum to 1.0\n",
    "total_weight = weight_FCNN + weight_RNN + weight_CA\n",
    "weight_FCNN /= total_weight\n",
    "weight_RNN /= total_weight\n",
    "weight_CA /= total_weight\n",
    "\n",
    "# Combine predictions using a weighted average\n",
    "ensemble_probs = (weight_FCNN * probs_FCNN + weight_RNN * probs_RNN + weight_CA * probs_CA) / 3\n",
    "\n",
    "# Get the predicted labels based on the highest probability\n",
    "ensemble_predictions = np.argmax(ensemble_probs, axis=1)\n",
    "\n",
    "# Evaluate the ensemble model\n",
    "ensemble_accuracy = accuracy_score(tst_labels, ensemble_predictions)\n",
    "ensemble_precision = precision_score(tst_labels, ensemble_predictions, average='weighted')\n",
    "ensemble_recall = recall_score(tst_labels, ensemble_predictions, average='weighted')\n",
    "ensemble_f1 = f1_score(tst_labels, ensemble_predictions, average='weighted')\n",
    "\n",
    "print(f\"Ensemble Model: Accuracy: {ensemble_accuracy}, Precision: {ensemble_precision}, Recall: {ensemble_recall}, F1: {ensemble_f1}\")\n"
   ]
  },
  {
   "cell_type": "code",
   "execution_count": null,
   "id": "e634f54c",
   "metadata": {},
   "outputs": [],
   "source": []
  },
  {
   "cell_type": "code",
   "execution_count": null,
   "id": "2f9dfbb4",
   "metadata": {},
   "outputs": [],
   "source": []
  }
 ],
 "metadata": {
  "kernelspec": {
   "display_name": "Python 3 (ipykernel)",
   "language": "python",
   "name": "python3"
  },
  "language_info": {
   "codemirror_mode": {
    "name": "ipython",
    "version": 3
   },
   "file_extension": ".py",
   "mimetype": "text/x-python",
   "name": "python",
   "nbconvert_exporter": "python",
   "pygments_lexer": "ipython3",
   "version": "3.10.9"
  }
 },
 "nbformat": 4,
 "nbformat_minor": 5
}
